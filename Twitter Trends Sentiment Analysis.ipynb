{
 "cells": [
  {
   "cell_type": "code",
   "execution_count": 1,
   "id": "3fe89a60",
   "metadata": {},
   "outputs": [],
   "source": [
    "import tweepy\n",
    "import pandas as pd\n",
    "from textblob import TextBlob\n",
    "from sklearn.ensemble import RandomForestClassifier\n",
    "from sklearn.feature_extraction.text import CountVectorizer\n",
    "from sklearn.pipeline import Pipeline\n",
    "import warnings\n",
    "warnings.filterwarnings('ignore')"
   ]
  },
  {
   "cell_type": "code",
   "execution_count": 2,
   "id": "c9ca0083",
   "metadata": {},
   "outputs": [],
   "source": [
    "consumer_key = \"TdOunCxvfCMDaNPE6qLsmMCNI\"\n",
    "consumer_secret = \"RquDGTgxhV97NFWv2PtuKCz0vPir3SdEhsbShcToeQRshfhruK\"\n",
    "access_token = \"2894385181-OWXRLnKEX4njDWBVw4sRLfC3GBXHeCu1qm7Leky\"\n",
    "access_token_secret = \"RlP59jIvbSQxfIvw65fq0fFz0C8g6dfLhKuEmzhNI2f35\""
   ]
  },
  {
   "cell_type": "code",
   "execution_count": 3,
   "id": "6f711d35",
   "metadata": {},
   "outputs": [],
   "source": [
    "auth = tweepy.OAuthHandler(consumer_key, consumer_secret)\n",
    "auth.set_access_token(access_token, access_token_secret)"
   ]
  },
  {
   "cell_type": "code",
   "execution_count": 4,
   "id": "f0ff5a4e",
   "metadata": {},
   "outputs": [],
   "source": [
    "api=tweepy.API(auth)"
   ]
  },
  {
   "cell_type": "code",
   "execution_count": 5,
   "id": "37cefd04",
   "metadata": {},
   "outputs": [
    {
     "name": "stdout",
     "output_type": "stream",
     "text": [
      "2023-03-06 20:07:37 Evеryоne can prepare fоr the pump in advance  @jeshicaaulia1 @Paffrancoeur @GabrielNever97 @Modi__108… https://t.co/fhBW95UUQd\n",
      "2023-03-06 20:07:35 RT @t_d_h_nair: Many Modi fans are asking me to put out the evidence for the Modi govt officially recommending Adani's name to Sri Lanka.\n",
      "T…\n",
      "2023-03-06 20:07:35 @Sportsforlunch @ScottyCameron @Titleist Nope. Didn't mis preorder part. The modi putters hit the store today. Look… https://t.co/33j4Od3UZu\n",
      "2023-03-06 20:07:29 RT @Enraged_Indian: Umesh Pal murder accused shot dead in encounter in Uttar Pradesh\n",
      "\n",
      "“Delivered as promised”.\n",
      "\n",
      "It is an integral part of t…\n",
      "2023-03-06 20:07:26 RT @SudheenKulkarni: Is this conceivable in the Modi government?\n",
      "\n",
      "Prime Minister Jawaharlal #Nehru was present when Education Minister Maul…\n",
      "2023-03-06 20:07:25 @JhaSanjay Everything set ,but ,Pappu fail ho gya &amp; PM is Modi\n",
      "2023-03-06 20:07:16 RT @JhaSanjay: Rahul Gandhi has checkmated Narendra Modi. \n",
      "\n",
      "The Prime Minister cannot hold a press conference even before fawning Indian me…\n",
      "2023-03-06 20:07:10 @AhmedKhabeer_ If Modi supporters think this is right,  these hindu mobs have unleased terror on common Indian citi… https://t.co/dib76wXQpt\n",
      "2023-03-06 20:07:05 @JhaSanjay All that RG can win at is speaking lies and spreading false propaganda against our country. In your cont… https://t.co/SPseqjtVaR\n",
      "2023-03-06 20:07:04 RT @ysathishreddy: There’s no leader who insulted India more than #Modi 🙏 https://t.co/xzFdoF7v1p\n",
      "2023-03-06 20:07:02 @StarseedSanghi @CowRishi @Jasmine01737661 stop looting TN nuclear power.\n",
      "\n",
      "stop looting 2/3rds of TN tax money\n",
      "\n",
      "sto… https://t.co/1GWOkQeXCh\n",
      "2023-03-06 20:07:00 RT @mumbaidilse: No....@RahulGandhi and the opposition should be bold enough to tell the people of India....if you care for the country, do…\n",
      "2023-03-06 20:06:56 RT @INCIndia: The BJP &amp; its alliance with NPP &amp; other parties is a marriage of convenience.\n",
      "\n",
      "PM Modi, JP Nadda &amp; other senior leaders came…\n",
      "2023-03-06 20:06:54 @Himansh74299778 @Profdilipmandal 9] \"Brahmins should not live in a country where rulers are Shudras\"\n",
      "Manusmriti 4:… https://t.co/h0tpQa8U0i\n",
      "2023-03-06 20:06:53 RT @BefittingFacts: TMC MP @jawharsircar tweeting 12 year old letter written by Dr. Devi Shetty to target PM Modi and FM Nirmala Sitharaman…\n",
      "2023-03-06 20:06:52 RT @PoliticalKida: Eye opener video for Sasta crowmedian who said I refused to amplify Covid help messages of Modi Supporters. #IVotedForCh…\n",
      "2023-03-06 20:06:44 @INCIndia This guy is loosing his Mind. Trying to create something before election 😂. People of India is all about… https://t.co/P1o3APmHDN\n",
      "2023-03-06 20:06:42 RT @wokeflix_: Absolute fascism in Modi’s India. ‘Samudae Vishesh’ isn’t even allowed to eat #ChicketBiryani inside a temple anymore.\n",
      "\n",
      "I ur…\n",
      "2023-03-06 20:06:39 RT @AbhishBanerj: Good that Raghuram Rajan raised questions on SEBI\n",
      "\n",
      "Will Rajan answer questions on his own gold import circular from 2014…\n",
      "2023-03-06 20:06:37 RT @RitikaChopra__: एक विचित्र क्रॉनॉलॉजी 🤔\n",
      "\n",
      "* Feb 2017: Edu Min appointed Dheeraj Sharma as IIM Rohtak head\n",
      "\n",
      "* 2yrs later, Modi govt defen…\n",
      "2023-03-06 20:06:36 RT @jawharsircar: Gautam Adani has pledged the electricity distribution of \n",
      "Mumbai for a strict-terms loan of $1 billion — that he may defa…\n",
      "2023-03-06 20:06:32 @washingtonpost @NPR @nytimes @Twitter @Meta watch Indian Muslims praising PM Modi. 10 days ago. Don’t believe anti… https://t.co/fgMnd2Bv6Q\n",
      "2023-03-06 20:06:30 RT @thewire_in: An investigation by Reporters' Collective reveals that the government had granted an \"extraordinary favour\" to the Adani gr…\n",
      "2023-03-06 20:06:27 RT @ashoswai: Modi, before being elected as the Prime Minister of India was not even allowed to enter into Britain. Rahul Gandhi is address…\n",
      "2023-03-06 20:06:19 RT @JhaSanjay: Rahul Gandhi has checkmated Narendra Modi. \n",
      "\n",
      "The Prime Minister cannot hold a press conference even before fawning Indian me…\n",
      "2023-03-06 20:06:17 RT @ashoswai: Modi, before being elected as the Prime Minister of India was not even allowed to enter into Britain. Rahul Gandhi is address…\n",
      "2023-03-06 20:06:15 RT @t_d_h_nair: This year's union budget is the recent nail in the coffin of Indian secularism and inclusionary development. \n",
      "Modi govt is…\n",
      "2023-03-06 20:06:13 RT @JhaSanjay: Rahul Gandhi has checkmated Narendra Modi. \n",
      "\n",
      "The Prime Minister cannot hold a press conference even before fawning Indian me…\n",
      "2023-03-06 20:06:11 RT @JhaSanjay: Rahul Gandhi has checkmated Narendra Modi. \n",
      "\n",
      "The Prime Minister cannot hold a press conference even before fawning Indian me…\n",
      "2023-03-06 20:05:59 RT @mediacrooks: Everyone in the BJP under Modi is now a PONZI OPERATOR... Keep investing in these fools... and kill your own future... htt…\n",
      "2023-03-06 20:05:59 RT @KibaVenisha: Sh Rahul Gandhi Ji attacked Modi govt on Chinese incursion during his address to Indian diaspora in London.🔥 https://t.co/…\n",
      "2023-03-06 20:05:54 RT @ysathishreddy: There’s no leader who insulted India more than #Modi 🙏 https://t.co/xzFdoF7v1p\n",
      "2023-03-06 20:05:53 RT @t_d_h_nair: Many Modi fans are asking me to put out the evidence for the Modi govt officially recommending Adani's name to Sri Lanka.\n",
      "T…\n",
      "2023-03-06 20:05:53 RT @pbhushan1: Adani port project in Sri Lanka is a \"Govt to Govt deal\"! Modi bats for Adani here. The Rafale deal was also a Govt to Govt…\n",
      "2023-03-06 20:05:51 RT @t_d_h_nair: The Sri Lankan Foreign Minister MUM Ali Sabri says that Sri Lanka wanted govt-to-govt deals with India to develop Infrastru…\n",
      "2023-03-06 20:05:48 @Lotus2051 @IamPraveenMohan @POTUS @narendramodi @elonmusk Narendra Modi is not the CEO of youtube.\n",
      "2023-03-06 20:05:46 RT @BefittingFacts: .@RahulGandhi talked about leaving house, here are some facts:\n",
      "\n",
      "•PM Nehru's house became Nehru Memorial.\n",
      "•PM Indira's h…\n",
      "2023-03-06 20:05:39 RT @wokeflix_: Absolute fascism in Modi’s India. ‘Samudae Vishesh’ isn’t even allowed to eat #ChicketBiryani inside a temple anymore.\n",
      "\n",
      "I ur…\n",
      "2023-03-06 20:05:38 RT @postcard_news: Mattur of Shivamogga is the only Sanskrit speaking village in India\n",
      "Indian Railways has recognised and honored this spec…\n",
      "2023-03-06 20:05:38 RT @JhaSanjay: Rahul Gandhi has checkmated Narendra Modi. \n",
      "\n",
      "The Prime Minister cannot hold a press conference even before fawning Indian me…\n",
      "2023-03-06 20:05:35 RT @jawharsircar: Gautam Adani has pledged the electricity distribution of \n",
      "Mumbai for a strict-terms loan of $1 billion — that he may defa…\n",
      "2023-03-06 20:05:33 @SamreenZehra17 There are lots of jobs in J&amp;K and BJP is not even ruling in our state.\n",
      "Modi stopped corruption and… https://t.co/9Ur0XYw4gH\n",
      "2023-03-06 20:05:25 RT @ashoswai: Modi, before being elected as the Prime Minister of India was not even allowed to enter into Britain. Rahul Gandhi is address…\n",
      "2023-03-06 20:05:24 RT @PadmajaJoshi: Heard a 'stand up comic' describe how ppl reached out to him on social media during Covid peak, asking to help find an IC…\n",
      "2023-03-06 20:05:24 RT @jawharsircar: Gautam Adani has pledged the electricity distribution of \n",
      "Mumbai for a strict-terms loan of $1 billion — that he may defa…\n",
      "2023-03-06 20:05:16 RT @ashoswai: Modi, before being elected as the Prime Minister of India was not even allowed to enter into Britain. Rahul Gandhi is address…\n",
      "2023-03-06 20:05:14 RT @pm_saiprasad: The Bhajan says, Ghar Ghar Modi Aayo re!\n",
      "\n",
      "Even in the foreign, our PM is so much popular that even they are saying. #Modi…\n",
      "2023-03-06 20:05:12 RT @rishibagree: Modi Govt weeded out \n",
      "\n",
      "40 Lakhs Fake Voters\n",
      "2.5 Lakh Fake Companies \n",
      "5 Crore Fake Ration Cards \n",
      "3 Crore Fake LPG connectio…\n",
      "2023-03-06 20:05:06 RT @MrSinha_: -AAP gvt threatening  Media Houses to not publish anti-Govt News.\n",
      "-Mamata Banerjee arrested a Congressi leader for speaking a…\n",
      "2023-03-06 20:04:58 RT @ashoswai: Modi, before being elected as the Prime Minister of India was not even allowed to enter into Britain. Rahul Gandhi is address…\n",
      "2023-03-06 20:04:55 @MaliksiZaragoza @Art1Modi yess - destroyed an artwork and mailed it across the globe to Modi in Egypt so he could… https://t.co/spTG5KANIa\n",
      "2023-03-06 20:04:50 RT @DrJBhattacharya: Now that it is clear to everyone with eyes to see that Fauci organized a cover up to squash the lab leak hypothesis, h…\n",
      "2023-03-06 20:04:49 @ashoswai He was banned from not only UK, but US too. But after becoming PM, Rishi Sunak from UK met him &amp; Trump we… https://t.co/kx5qppGe4h\n",
      "2023-03-06 20:04:49 RT @KanwalSibal: How can RG say Modi considers Sikhs, Muslims &amp; Christians as second class citizens? This is irresponsible politics.\n",
      "2023-03-06 20:04:47 RT @JhaSanjay: Rahul Gandhi has checkmated Narendra Modi. \n",
      "\n",
      "The Prime Minister cannot hold a press conference even before fawning Indian me…\n",
      "2023-03-06 20:04:44 Bullshit. You don't go from rants like ' this country is not about Hinduism, it's about hindu marrying Muslim blah… https://t.co/nT6qk000Y2\n",
      "2023-03-06 20:04:42 @ARanganathan72 India wouldn't want a leader like Indira or Pawar,Akhilesh in place of Pappu.rishta which, soch nay… https://t.co/mujmchevHJ\n",
      "2023-03-06 20:04:41 RT @ashoswai: Modi, before being elected as the Prime Minister of India was not even allowed to enter into Britain. Rahul Gandhi is address…\n",
      "2023-03-06 20:04:40 RT @c_aashish: Not Just Health, India Going A Step Further And Working On Wellness: PM @narendramodi In Webinar On Health And Medical Resea…\n",
      "2023-03-06 20:04:38 RT @KanwalSibal: How can RG say Modi considers Sikhs, Muslims &amp; Christians as second class citizens? This is irresponsible politics.\n",
      "2023-03-06 20:04:37 RT @themodistory: \"Narendra Modi has a zero-tolerance policy against corruption and misuse of public resources.\"\n",
      "\n",
      "In today's #ModiStory, fo…\n",
      "2023-03-06 20:04:28 RT @MumbaichaDon: Irony died 100 deaths!\n",
      "\n",
      "Just Today 9 HONEST Opposition Leaders including Uddhav Thackeray, Sharad Pawar, Mamata Bano, KCR…\n",
      "2023-03-06 20:04:01 RT @JhaSanjay: Rahul Gandhi has checkmated Narendra Modi. \n",
      "\n",
      "The Prime Minister cannot hold a press conference even before fawning Indian me…\n",
      "2023-03-06 20:03:59 RT @arunpudur: Soros announces fight against Modi\n",
      "\n",
      "SC starts interfering in Election commission\n",
      "\n",
      "Kapil Sibal starts new platform 'Insaaf'…\n",
      "2023-03-06 20:03:59 RT @LuvDatta_INC: Two losers in one frame. One is Godi Media Modi propagandist, the other one is here to put his points up, a loser to be F…\n",
      "2023-03-06 20:03:55 RT @pitchaijohn1961: @TrulyMonica Haha.. Funny.\n",
      "As a loser.. Oh. Really..?\n",
      "A man walked 4000 KM to unite India as a loser for BJP..\n",
      "A man w…\n",
      "2023-03-06 20:03:53 RT @pbhushan1: Adani port project in Sri Lanka is a \"Govt to Govt deal\"! Modi bats for Adani here. The Rafale deal was also a Govt to Govt…\n",
      "2023-03-06 20:03:50 @JhaSanjay This is how Rahul cheak mated modi... https://t.co/5JGAGvRdRz\n",
      "2023-03-06 20:03:49 @ARanganathan72 You're not in the BJP or the govt &amp; yet you manage to defend both so beautifully.\n",
      "What's wrong with… https://t.co/kQh8nWRTIo\n",
      "2023-03-06 20:03:43 RT @JhaSanjay: Rahul Gandhi has checkmated Narendra Modi. \n",
      "\n",
      "The Prime Minister cannot hold a press conference even before fawning Indian me…\n",
      "2023-03-06 20:03:38 RT @JhaSanjay: Rahul Gandhi has checkmated Narendra Modi. \n",
      "\n",
      "The Prime Minister cannot hold a press conference even before fawning Indian me…\n",
      "2023-03-06 20:03:32 RT @DeshGujarat: PM admires Gujarat govt:  (1/2) \n",
      "-2nd Rojgar Mela in Guj by Govt in a short period\n",
      "- 1.5 lakh govt jobs given in last 5 ye…\n",
      "2023-03-06 20:03:31 RT @t_d_h_nair: Many Modi fans are asking me to put out the evidence for the Modi govt officially recommending Adani's name to Sri Lanka.\n",
      "T…\n",
      "2023-03-06 20:03:27 India is a democratic country not a dictatorship country like Hitler’s Germany was.Indian Democracy depends on Cons… https://t.co/rvxPHZnZyh\n",
      "2023-03-06 20:03:19 RT @dmuthuk: Raghuram Rajan is derisively calling Indian growth as Hindu rate of growth. Would he dare to call for all other countries that…\n",
      "2023-03-06 20:03:16 Many times i had said this\n",
      "\n",
      "The most important achievement of Modi govt is Elimination of Middleman from every area… https://t.co/upal0GwBvf\n",
      "2023-03-06 20:03:16 RT @AnshumanSail: Sh. Rahul Gandhi takes on Modi's minister for saying that we can't fight with China because China is a stronger economy.…\n",
      "2023-03-06 20:03:15 RT @colkt: @GemsOfNaMo @chitrapadhi @first_desi @kapildsharma @KumarTyrion @mm_0774 @Muktak8 @ratihegde @sdeo76 @sssatishhh @supremejha Mod…\n",
      "2023-03-06 20:03:15 @SupriyaShrinate And whenever he stood, Modi had a great fall😜\n",
      "2023-03-06 20:03:13 @FXlearnerFX @INCIndia @RahulGandhi Have you seen Modi abusing any one on foreign soil?\n",
      "Modi has nothing to run awa… https://t.co/q2c4Cku7vy\n",
      "2023-03-06 20:03:12 RT @JhaSanjay: Rahul Gandhi has checkmated Narendra Modi. \n",
      "\n",
      "The Prime Minister cannot hold a press conference even before fawning Indian me…\n",
      "2023-03-06 20:03:12 RT @SudheenKulkarni: Is this conceivable in the Modi government?\n",
      "\n",
      "Prime Minister Jawaharlal #Nehru was present when Education Minister Maul…\n",
      "2023-03-06 20:03:12 RT @jawharsircar: Raghuram Rajan asks SEBI why it couldn’t catch Adani for ‘free float’ of only 2% of his shares — for trading &amp; market man…\n",
      "2023-03-06 20:03:05 RT @INCIndia: The BJP &amp; its alliance with NPP &amp; other parties is a marriage of convenience.\n",
      "\n",
      "PM Modi, JP Nadda &amp; other senior leaders came…\n",
      "2023-03-06 20:03:00 RT @Reasonyourself: Raghuram Rajan asks SEBI why it couldn’t catch Adani for ‘free float’ of only 2% of his shares — for trading &amp; market m…\n",
      "2023-03-06 20:02:54 @Lallanpost Islye to aaj desh ky yeh halat hain ! Puri country ko barbad kr dye but still majority people's r again… https://t.co/HmbUIg6jIU\n",
      "2023-03-06 20:02:43 RT @vjbandarubjp: Narendra Modi, the world's most popular leader, has reclaimed the top spot in the global rankings.\n",
      "@narendramodi \n",
      "@AmitSh…\n",
      "2023-03-06 20:02:43 RT @ashoswai: Modi, before being elected as the Prime Minister of India was not even allowed to enter into Britain. Rahul Gandhi is address…\n",
      "2023-03-06 20:02:42 RT @ashoswai: Modi, before being elected as the Prime Minister of India was not even allowed to enter into Britain. Rahul Gandhi is address…\n",
      "2023-03-06 20:02:34 RT @thewire_in: An investigation by Reporters' Collective reveals that the government had granted an \"extraordinary favour\" to the Adani gr…\n",
      "2023-03-06 20:02:32 RT @AbhishBanerj: Read Manu Joseph's column about \"good guys\" who keep losing to Modi\n",
      "\n",
      "But disagree with almost every word\n",
      "\n",
      "1. No, 2024 is…\n",
      "2023-03-06 20:02:31 RT @ashoswai: Modi, before being elected as the Prime Minister of India was not even allowed to enter into Britain. Rahul Gandhi is address…\n",
      "2023-03-06 20:02:30 RT @pbhushan1: Adani port project in Sri Lanka is a \"Govt to Govt deal\"! Modi bats for Adani here. The Rafale deal was also a Govt to Govt…\n",
      "2023-03-06 20:02:27 RT @ashoswai: Pakistani regime has banned Pakistan's former Prime Minister from Pakistan's Television Channels - Why do they need to do thi…\n",
      "2023-03-06 20:02:24 RT @thewire_in: An investigation by Reporters' Collective reveals that the government had granted an \"extraordinary favour\" to the Adani gr…\n",
      "2023-03-06 20:02:24 RT @rishibagree: Modi Govt weeded out \n",
      "\n",
      "40 Lakhs Fake Voters\n",
      "2.5 Lakh Fake Companies \n",
      "5 Crore Fake Ration Cards \n",
      "3 Crore Fake LPG connectio…\n",
      "2023-03-06 20:02:21 RT @wokeflix_: Absolute fascism in Modi’s India. ‘Samudae Vishesh’ isn’t even allowed to eat #ChicketBiryani inside a temple anymore.\n",
      "\n",
      "I ur…\n",
      "2023-03-06 20:02:19 @INCIndia But why this congress handle is so obsessed with modi adani and rahul , anybody can tell this is nothing… https://t.co/UH7qVJft9P\n",
      "2023-03-06 20:02:19 RT @pbhushan1: Adani port project in Sri Lanka is a \"Govt to Govt deal\"! Modi bats for Adani here. The Rafale deal was also a Govt to Govt…\n",
      "2023-03-06 20:02:18 RT @PriaINC: @izeenatrana @RahulGandhi Replace the word India with Modi and then you got your summary. \n",
      "The person who has defamed India th…\n"
     ]
    }
   ],
   "source": [
    "twt=[]\n",
    "for tweet in tweepy.Cursor (api.search,q=\"Modi\",count=100,\n",
    "                           lang=\"en\",exclude_replies=True).items(100):\n",
    "    print (tweet.created_at, tweet.text)\n",
    "    twt.append(([tweet.created_at, tweet.text.encode('ascii','ignore')]))"
   ]
  },
  {
   "cell_type": "code",
   "execution_count": 6,
   "id": "9db123e3",
   "metadata": {},
   "outputs": [],
   "source": [
    "import re \n",
    "\n",
    "sent_lst=[]        \n",
    "for i in range(0,len(twt)):     \n",
    "    sent_lst.append(re.sub('(@[A-Za-z0-9]+)|([^0-9A-Za-z \\t])|(\\w+:\\/\\/\\S+)','',str(twt[i][1]))+'.')"
   ]
  },
  {
   "cell_type": "code",
   "execution_count": 7,
   "id": "453b6f0d",
   "metadata": {},
   "outputs": [],
   "source": [
    "c =[]\n",
    "comments = []\n",
    "score=[]"
   ]
  },
  {
   "cell_type": "code",
   "execution_count": 8,
   "id": "392b90b8",
   "metadata": {},
   "outputs": [
    {
     "name": "stdout",
     "output_type": "stream",
     "text": [
      "bEvryne can prepare fr the pump in advance     108 .\n",
      " dhnair Many Modi fans are asking me to put out the evidence for the Modi govt officially recommending Adanis name to Sri LankanT.\n",
      "b   Nope Didnt mis preorder part The modi putters hit the store today Look .\n",
      " Indian Umesh Pal murder accused shot dead in encounter in Uttar PradeshnnDelivered as promisednnIt is an integral part of t.\n",
      "  Is this conceivable in the Modi governmentnnPrime Minister Jawaharlal Nehru was present when Education Minister Maul.\n",
      "b Everything set but Pappu fail ho gya amp PM is Modi.\n",
      "  Rahul Gandhi has checkmated Narendra Modi nnThe Prime Minister cannot hold a press conference even before fawning Indian me.\n",
      "b If Modi supporters think this is right  these hindu mobs have unleased terror on common Indian citi .\n",
      "b All that RG can win at is speaking lies and spreading false propaganda against our country In your cont .\n",
      "  Theres no leader who insulted India more than Modi  .\n",
      "b   stop looting TN nuclear powernnstop looting 23rds of TN tax moneynnsto .\n",
      "  No and the opposition should be bold enough to tell the people of Indiaif you care for the country do.\n",
      "  The BJP amp its alliance with NPP amp other parties is a marriage of conveniencennPM Modi JP Nadda amp other senior leaders came.\n",
      "b  9 Brahmins should not live in a country where rulers are ShudrasnManusmriti 4 .\n",
      "  TMC MP  tweeting 12 year old letter written by Dr Devi Shetty to target PM Modi and FM Nirmala Sitharaman.\n",
      "  Eye opener video for Sasta crowmedian who said I refused to amplify Covid help messages of Modi Supporters IVotedForCh.\n",
      "b This guy is loosing his Mind Trying to create something before election  People of India is all about .\n",
      "  Absolute fascism in Modis India Samudae Vishesh isnt even allowed to eat ChicketBiryani inside a temple anymorennI ur.\n",
      "  Good that Raghuram Rajan raised questions on SEBInnWill Rajan answer questions on his own gold import circular from 2014.\n",
      "     nn Feb 2017 Edu Min appointed Dheeraj Sharma as IIM Rohtak headnn 2yrs later Modi govt defen.\n",
      "  Gautam Adani has pledged the electricity distribution of nMumbai for a strictterms loan of 1 billion  that he may defa.\n",
      "b     watch Indian Muslims praising PM Modi 10 days ago Dont believe anti .\n",
      " in An investigation by Reporters Collective reveals that the government had granted an extraordinary favour to the Adani gr.\n",
      "  Modi before being elected as the Prime Minister of India was not even allowed to enter into Britain Rahul Gandhi is address.\n",
      "  Rahul Gandhi has checkmated Narendra Modi nnThe Prime Minister cannot hold a press conference even before fawning Indian me.\n",
      "  Modi before being elected as the Prime Minister of India was not even allowed to enter into Britain Rahul Gandhi is address.\n",
      " dhnair This years union budget is the recent nail in the coffin of Indian secularism and inclusionary development nModi govt is.\n",
      "  Rahul Gandhi has checkmated Narendra Modi nnThe Prime Minister cannot hold a press conference even before fawning Indian me.\n",
      "  Rahul Gandhi has checkmated Narendra Modi nnThe Prime Minister cannot hold a press conference even before fawning Indian me.\n",
      "  Everyone in the BJP under Modi is now a PONZI OPERATOR Keep investing in these fools and kill your own future htt.\n",
      "  Sh Rahul Gandhi Ji attacked Modi govt on Chinese incursion during his address to Indian diaspora in London .\n",
      "  Theres no leader who insulted India more than Modi  .\n",
      " dhnair Many Modi fans are asking me to put out the evidence for the Modi govt officially recommending Adanis name to Sri LankanT.\n",
      "  Adani port project in Sri Lanka is a Govt to Govt deal Modi bats for Adani here The Rafale deal was also a Govt to Govt.\n",
      " dhnair The Sri Lankan Foreign Minister MUM Ali Sabri says that Sri Lanka wanted govttogovt deals with India to develop Infrastru.\n",
      "b     Narendra Modi is not the CEO of youtube.\n",
      "   talked about leaving house here are some factsnnPM Nehrus house became Nehru MemorialnPM Indiras h.\n",
      "  Absolute fascism in Modis India Samudae Vishesh isnt even allowed to eat ChicketBiryani inside a temple anymorennI ur.\n",
      " news Mattur of Shivamogga is the only Sanskrit speaking village in IndianIndian Railways has recognised and honored this spec.\n",
      "  Rahul Gandhi has checkmated Narendra Modi nnThe Prime Minister cannot hold a press conference even before fawning Indian me.\n",
      "  Gautam Adani has pledged the electricity distribution of nMumbai for a strictterms loan of 1 billion  that he may defa.\n",
      "b There are lots of jobs in JampK and BJP is not even ruling in our statenModi stopped corruption and .\n",
      "  Modi before being elected as the Prime Minister of India was not even allowed to enter into Britain Rahul Gandhi is address.\n",
      "  Heard a stand up comic describe how ppl reached out to him on social media during Covid peak asking to help find an IC.\n",
      "  Gautam Adani has pledged the electricity distribution of nMumbai for a strictterms loan of 1 billion  that he may defa.\n",
      "  Modi before being elected as the Prime Minister of India was not even allowed to enter into Britain Rahul Gandhi is address.\n",
      " saiprasad The Bhajan says Ghar Ghar Modi Aayo rennEven in the foreign our PM is so much popular that even they are saying Modi.\n",
      "  Modi Govt weeded out nn40 Lakhs Fake Votersn25 Lakh Fake Companies n5 Crore Fake Ration Cards n3 Crore Fake LPG connectio.\n",
      "  AAP gvt threatening  Media Houses to not publish antiGovt NewsnMamata Banerjee arrested a Congressi leader for speaking a.\n",
      "  Modi before being elected as the Prime Minister of India was not even allowed to enter into Britain Rahul Gandhi is address.\n",
      "b  yess  destroyed an artwork and mailed it across the globe to Modi in Egypt so he could .\n",
      "  Now that it is clear to everyone with eyes to see that Fauci organized a cover up to squash the lab leak hypothesis h.\n",
      "b He was banned from not only UK but US too But after becoming PM Rishi Sunak from UK met him amp Trump we .\n",
      "  How can RG say Modi considers Sikhs Muslims amp Christians as second class citizens This is irresponsible politics.\n",
      "  Rahul Gandhi has checkmated Narendra Modi nnThe Prime Minister cannot hold a press conference even before fawning Indian me.\n",
      "bBullshit You dont go from rants like  this country is not about Hinduism its about hindu marrying Muslim blah .\n",
      "b India wouldnt want a leader like Indira or PawarAkhilesh in place of Pappurishta which soch nay .\n",
      "  Modi before being elected as the Prime Minister of India was not even allowed to enter into Britain Rahul Gandhi is address.\n",
      " aashish Not Just Health India Going A Step Further And Working On Wellness PM  In Webinar On Health And Medical Resea.\n",
      "  How can RG say Modi considers Sikhs Muslims amp Christians as second class citizens This is irresponsible politics.\n",
      "  Narendra Modi has a zerotolerance policy against corruption and misuse of public resourcesnnIn todays ModiStory fo.\n",
      "  Irony died 100 deathsnnJust Today 9 HONEST Opposition Leaders including Uddhav Thackeray Sharad Pawar Mamata Bano KCR.\n",
      "  Rahul Gandhi has checkmated Narendra Modi nnThe Prime Minister cannot hold a press conference even before fawning Indian me.\n",
      "  Soros announces fight against ModinnSC starts interfering in Election commissionnnKapil Sibal starts new platform Insaaf.\n",
      " INC Two losers in one frame One is Godi Media Modi propagandist the other one is here to put his points up a loser to be F.\n",
      "   Haha FunnynAs a loser Oh ReallynA man walked 4000 KM to unite India as a loser for BJPnA man w.\n",
      "  Adani port project in Sri Lanka is a Govt to Govt deal Modi bats for Adani here The Rafale deal was also a Govt to Govt.\n",
      "b This is how Rahul cheak mated modi .\n",
      "b Youre not in the BJP or the govt amp yet you manage to defend both so beautifullynWhats wrong with .\n",
      "  Rahul Gandhi has checkmated Narendra Modi nnThe Prime Minister cannot hold a press conference even before fawning Indian me.\n",
      "  Rahul Gandhi has checkmated Narendra Modi nnThe Prime Minister cannot hold a press conference even before fawning Indian me.\n",
      "  PM admires Gujarat govt  12 n2nd Rojgar Mela in Guj by Govt in a short periodn 15 lakh govt jobs given in last 5 ye.\n",
      " dhnair Many Modi fans are asking me to put out the evidence for the Modi govt officially recommending Adanis name to Sri LankanT.\n",
      "bIndia is a democratic country not a dictatorship country like Hitlers Germany wasIndian Democracy depends on Cons .\n",
      "  Raghuram Rajan is derisively calling Indian growth as Hindu rate of growth Would he dare to call for all other countries that.\n",
      "bMany times i had said thisnnThe most important achievement of Modi govt is Elimination of Middleman from every area .\n",
      "  Sh Rahul Gandhi takes on Modis minister for saying that we cant fight with China because China is a stronger economy.\n",
      "    desi   0774      Mod.\n",
      "b And whenever he stood Modi had a great fall.\n",
      "b   Have you seen Modi abusing any one on foreign soilnModi has nothing to run awa .\n",
      "  Rahul Gandhi has checkmated Narendra Modi nnThe Prime Minister cannot hold a press conference even before fawning Indian me.\n",
      "  Is this conceivable in the Modi governmentnnPrime Minister Jawaharlal Nehru was present when Education Minister Maul.\n"
     ]
    },
    {
     "name": "stdout",
     "output_type": "stream",
     "text": [
      "  Raghuram Rajan asks SEBI why it couldnt catch Adani for free float of only 2 of his shares  for trading amp market man.\n",
      "  The BJP amp its alliance with NPP amp other parties is a marriage of conveniencennPM Modi JP Nadda amp other senior leaders came.\n",
      "  Raghuram Rajan asks SEBI why it couldnt catch Adani for free float of only 2 of his shares  for trading amp market m.\n",
      "b Islye to aaj desh ky yeh halat hain  Puri country ko barbad kr dye but still majority peoples r again .\n",
      "  Narendra Modi the worlds most popular leader has reclaimed the top spot in the global rankingsn n.\n",
      "  Modi before being elected as the Prime Minister of India was not even allowed to enter into Britain Rahul Gandhi is address.\n",
      "  Modi before being elected as the Prime Minister of India was not even allowed to enter into Britain Rahul Gandhi is address.\n",
      " in An investigation by Reporters Collective reveals that the government had granted an extraordinary favour to the Adani gr.\n",
      "  Read Manu Josephs column about good guys who keep losing to ModinnBut disagree with almost every wordnn1 No 2024 is.\n",
      "  Modi before being elected as the Prime Minister of India was not even allowed to enter into Britain Rahul Gandhi is address.\n",
      "  Adani port project in Sri Lanka is a Govt to Govt deal Modi bats for Adani here The Rafale deal was also a Govt to Govt.\n",
      "  Pakistani regime has banned Pakistans former Prime Minister from Pakistans Television Channels  Why do they need to do thi.\n",
      " in An investigation by Reporters Collective reveals that the government had granted an extraordinary favour to the Adani gr.\n",
      "  Modi Govt weeded out nn40 Lakhs Fake Votersn25 Lakh Fake Companies n5 Crore Fake Ration Cards n3 Crore Fake LPG connectio.\n",
      "  Absolute fascism in Modis India Samudae Vishesh isnt even allowed to eat ChicketBiryani inside a temple anymorennI ur.\n",
      "b But why this congress handle is so obsessed with modi adani and rahul  anybody can tell this is nothing .\n",
      "  Adani port project in Sri Lanka is a Govt to Govt deal Modi bats for Adani here The Rafale deal was also a Govt to Govt.\n",
      "    Replace the word India with Modi and then you got your summary nThe person who has defamed India th.\n"
     ]
    },
    {
     "data": {
      "text/plain": [
       "100"
      ]
     },
     "execution_count": 8,
     "metadata": {},
     "output_type": "execute_result"
    }
   ],
   "source": [
    "\n",
    "for i in sent_lst:\n",
    "    print(i.replace('bRT',''))     \n",
    "    review = TextBlob(i.replace('bRT',''))\n",
    "    score.append(review.sentiment.polarity) #Gives the Sentiment Score for each tweet\n",
    "    if review.sentiment.polarity >0:\n",
    "         comments.append('Positive')\n",
    "    elif review.sentiment.polarity == 0:\n",
    "         comments.append('Neutral')\n",
    "    else:\n",
    "         comments.append('Negative')\n",
    "len(comments)      "
   ]
  },
  {
   "cell_type": "code",
   "execution_count": 9,
   "id": "3f2ecf3e",
   "metadata": {},
   "outputs": [
    {
     "data": {
      "image/png": "[encoded data removed]",
      "text/plain": [
       "<Figure size 432x288 with 1 Axes>"
      ]
     },
     "metadata": {
      "needs_background": "light"
     },
     "output_type": "display_data"
    },
    {
     "data": {
      "text/plain": [
       "32"
      ]
     },
     "execution_count": 9,
     "metadata": {},
     "output_type": "execute_result"
    }
   ],
   "source": [
    "import matplotlib.pyplot as plt\n",
    "import seaborn as sns\n",
    "sns.countplot(comments,order=['Positive','Neutral','Negative'],palette=['Green','Blue','Red'])\n",
    "#plt.figure(figsize=(10,10))\n",
    "plt.title(\"tweets\")\n",
    "plt.show() \n",
    "comments.count(\"Positive\")"
   ]
  },
  {
   "cell_type": "code",
   "execution_count": 10,
   "id": "2f0b4744",
   "metadata": {},
   "outputs": [
    {
     "data": {
      "image/png": "[encoded data removed]",
      "text/plain": [
       "<Figure size 576x576 with 1 Axes>"
      ]
     },
     "metadata": {},
     "output_type": "display_data"
    }
   ],
   "source": [
    "labels = 'Positive', 'Neutral', 'Negative'\n",
    "sizes = [comments.count(\"Positive\"), comments.count(\"Neutral\"),comments.count(\"Negative\")]\n",
    "colors = ['Cyan','yellow','Red']\n",
    "explode = (0.1, 0, 0)  # explode 1st slice\n",
    "plt.figure(figsize=(8,8))\n",
    "plt.pie(sizes, explode=explode, labels=labels, colors=colors,\n",
    "        autopct='%2.1f%%', shadow=True, startangle=150)\n",
    "plt.axis('equal')\n",
    "plt.title(\"\")\n",
    "plt.show()\n"
   ]
  },
  {
   "cell_type": "code",
   "execution_count": 11,
   "id": "7b42b044",
   "metadata": {},
   "outputs": [],
   "source": [
    "#setup pipeline for Preprocessing and classification\n",
    "pipeline=Pipeline([('Vectorizer',CountVectorizer()),('Classifier',RandomForestClassifier())])"
   ]
  },
  {
   "cell_type": "code",
   "execution_count": 12,
   "id": "3a23e2db",
   "metadata": {},
   "outputs": [
    {
     "data": {
      "text/html": [
       "<style>#sk-container-id-1 {color: black;background-color: white;}#sk-container-id-1 pre{padding: 0;}#sk-container-id-1 div.sk-toggleable {background-color: white;}#sk-container-id-1 label.sk-toggleable__label {cursor: pointer;display: block;width: 100%;margin-bottom: 0;padding: 0.3em;box-sizing: border-box;text-align: center;}#sk-container-id-1 label.sk-toggleable__label-arrow:before {content: \"▸\";float: left;margin-right: 0.25em;color: #696969;}#sk-container-id-1 label.sk-toggleable__label-arrow:hover:before {color: black;}#sk-container-id-1 div.sk-estimator:hover label.sk-toggleable__label-arrow:before {color: black;}#sk-container-id-1 div.sk-toggleable__content {max-height: 0;max-width: 0;overflow: hidden;text-align: left;background-color: #f0f8ff;}#sk-container-id-1 div.sk-toggleable__content pre {margin: 0.2em;color: black;border-radius: 0.25em;background-color: #f0f8ff;}#sk-container-id-1 input.sk-toggleable__control:checked~div.sk-toggleable__content {max-height: 200px;max-width: 100%;overflow: auto;}#sk-container-id-1 input.sk-toggleable__control:checked~label.sk-toggleable__label-arrow:before {content: \"▾\";}#sk-container-id-1 div.sk-estimator input.sk-toggleable__control:checked~label.sk-toggleable__label {background-color: #d4ebff;}#sk-container-id-1 div.sk-label input.sk-toggleable__control:checked~label.sk-toggleable__label {background-color: #d4ebff;}#sk-container-id-1 input.sk-hidden--visually {border: 0;clip: rect(1px 1px 1px 1px);clip: rect(1px, 1px, 1px, 1px);height: 1px;margin: -1px;overflow: hidden;padding: 0;position: absolute;width: 1px;}#sk-container-id-1 div.sk-estimator {font-family: monospace;background-color: #f0f8ff;border: 1px dotted black;border-radius: 0.25em;box-sizing: border-box;margin-bottom: 0.5em;}#sk-container-id-1 div.sk-estimator:hover {background-color: #d4ebff;}#sk-container-id-1 div.sk-parallel-item::after {content: \"\";width: 100%;border-bottom: 1px solid gray;flex-grow: 1;}#sk-container-id-1 div.sk-label:hover label.sk-toggleable__label {background-color: #d4ebff;}#sk-container-id-1 div.sk-serial::before {content: \"\";position: absolute;border-left: 1px solid gray;box-sizing: border-box;top: 0;bottom: 0;left: 50%;z-index: 0;}#sk-container-id-1 div.sk-serial {display: flex;flex-direction: column;align-items: center;background-color: white;padding-right: 0.2em;padding-left: 0.2em;position: relative;}#sk-container-id-1 div.sk-item {position: relative;z-index: 1;}#sk-container-id-1 div.sk-parallel {display: flex;align-items: stretch;justify-content: center;background-color: white;position: relative;}#sk-container-id-1 div.sk-item::before, #sk-container-id-1 div.sk-parallel-item::before {content: \"\";position: absolute;border-left: 1px solid gray;box-sizing: border-box;top: 0;bottom: 0;left: 50%;z-index: -1;}#sk-container-id-1 div.sk-parallel-item {display: flex;flex-direction: column;z-index: 1;position: relative;background-color: white;}#sk-container-id-1 div.sk-parallel-item:first-child::after {align-self: flex-end;width: 50%;}#sk-container-id-1 div.sk-parallel-item:last-child::after {align-self: flex-start;width: 50%;}#sk-container-id-1 div.sk-parallel-item:only-child::after {width: 0;}#sk-container-id-1 div.sk-dashed-wrapped {border: 1px dashed gray;margin: 0 0.4em 0.5em 0.4em;box-sizing: border-box;padding-bottom: 0.4em;background-color: white;}#sk-container-id-1 div.sk-label label {font-family: monospace;font-weight: bold;display: inline-block;line-height: 1.2em;}#sk-container-id-1 div.sk-label-container {text-align: center;}#sk-container-id-1 div.sk-container {/* jupyter's `normalize.less` sets `[hidden] { display: none; }` but bootstrap.min.css set `[hidden] { display: none !important; }` so we also need the `!important` here to be able to override the default hidden behavior on the sphinx rendered scikit-learn.org. See: https://github.com/scikit-learn/scikit-learn/issues/21755 */display: inline-block !important;position: relative;}#sk-container-id-1 div.sk-text-repr-fallback {display: none;}</style><div id=\"sk-container-id-1\" class=\"sk-top-container\"><div class=\"sk-text-repr-fallback\"><pre>Pipeline(steps=[(&#x27;Vectorizer&#x27;, CountVectorizer()),\n",
       "                (&#x27;Classifier&#x27;, RandomForestClassifier())])</pre><b>In a Jupyter environment, please rerun this cell to show the HTML representation or trust the notebook. <br />On GitHub, the HTML representation is unable to render, please try loading this page with nbviewer.org.</b></div><div class=\"sk-container\" hidden><div class=\"sk-item sk-dashed-wrapped\"><div class=\"sk-label-container\"><div class=\"sk-label sk-toggleable\"><input class=\"sk-toggleable__control sk-hidden--visually\" id=\"sk-estimator-id-1\" type=\"checkbox\" ><label for=\"sk-estimator-id-1\" class=\"sk-toggleable__label sk-toggleable__label-arrow\">Pipeline</label><div class=\"sk-toggleable__content\"><pre>Pipeline(steps=[(&#x27;Vectorizer&#x27;, CountVectorizer()),\n",
       "                (&#x27;Classifier&#x27;, RandomForestClassifier())])</pre></div></div></div><div class=\"sk-serial\"><div class=\"sk-item\"><div class=\"sk-estimator sk-toggleable\"><input class=\"sk-toggleable__control sk-hidden--visually\" id=\"sk-estimator-id-2\" type=\"checkbox\" ><label for=\"sk-estimator-id-2\" class=\"sk-toggleable__label sk-toggleable__label-arrow\">CountVectorizer</label><div class=\"sk-toggleable__content\"><pre>CountVectorizer()</pre></div></div></div><div class=\"sk-item\"><div class=\"sk-estimator sk-toggleable\"><input class=\"sk-toggleable__control sk-hidden--visually\" id=\"sk-estimator-id-3\" type=\"checkbox\" ><label for=\"sk-estimator-id-3\" class=\"sk-toggleable__label sk-toggleable__label-arrow\">RandomForestClassifier</label><div class=\"sk-toggleable__content\"><pre>RandomForestClassifier()</pre></div></div></div></div></div></div></div>"
      ],
      "text/plain": [
       "Pipeline(steps=[('Vectorizer', CountVectorizer()),\n",
       "                ('Classifier', RandomForestClassifier())])"
      ]
     },
     "execution_count": 12,
     "metadata": {},
     "output_type": "execute_result"
    }
   ],
   "source": [
    "#Train the classifier using labeled data\n",
    "X_train=['Modi is a great politician','Modi is fascist','Go back modi']\n",
    "y_train=['positive','negative','neutral']\n",
    "pipeline.fit(X_train,y_train)"
   ]
  },
  {
   "cell_type": "code",
   "execution_count": 13,
   "id": "6fb37bae",
   "metadata": {},
   "outputs": [],
   "source": [
    "positive_count = 10\n",
    "negative_count = 10\n",
    "neutral_count = 10"
   ]
  },
  {
   "cell_type": "code",
   "execution_count": 14,
   "id": "e81f1187",
   "metadata": {},
   "outputs": [],
   "source": [
    "for i in sent_lst:\n",
    "    text = tweet.text\n",
    "    sentiment = pipeline.predict([text])[0]\n",
    "    if sentiment == 'positive':\n",
    "        positive_count += 1\n",
    "    elif sentiment == 'negative':\n",
    "        negative_count += 1\n",
    "    else:\n",
    "        neutral_count += 1\n"
   ]
  },
  {
   "cell_type": "code",
   "execution_count": 15,
   "id": "6df58e42",
   "metadata": {},
   "outputs": [],
   "source": [
    "total_count = positive_count + negative_count + neutral_count\n",
    "positive_percent = round((positive_count / total_count) * 100, 2)\n",
    "negative_percent = round((negative_count / total_count) * 100, 2)\n",
    "neutral_percent = round((neutral_count / total_count) * 100, 2)"
   ]
  },
  {
   "cell_type": "code",
   "execution_count": 16,
   "id": "d1fc4701",
   "metadata": {},
   "outputs": [
    {
     "name": "stdout",
     "output_type": "stream",
     "text": [
      "Total tweets analyzed: 130\n",
      "Positive tweets: 10 ( 7.69 %)\n",
      "Negative tweets: 110 ( 84.62 %)\n",
      "Neutral tweets: 10 ( 7.69 %)\n"
     ]
    }
   ],
   "source": [
    "print('Total tweets analyzed:', total_count)\n",
    "print('Positive tweets:', positive_count, '(', positive_percent, '%)')\n",
    "print('Negative tweets:', negative_count, '(', negative_percent, '%)')\n",
    "print('Neutral tweets:', neutral_count, '(', neutral_percent, '%)')"
   ]
  }
 ],
 "metadata": {
  "kernelspec": {
   "display_name": "Python 3 (ipykernel)",
   "language": "python",
   "name": "python3"
  },
  "language_info": {
   "codemirror_mode": {
    "name": "ipython",
    "version": 3
   },
   "file_extension": ".py",
   "mimetype": "text/x-python",
   "name": "python",
   "nbconvert_exporter": "python",
   "pygments_lexer": "ipython3",
   "version": "3.9.12"
  }
 },
 "nbformat": 4,
 "nbformat_minor": 5
}
